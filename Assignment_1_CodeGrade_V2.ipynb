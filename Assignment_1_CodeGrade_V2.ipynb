{
  "nbformat": 4,
  "nbformat_minor": 5,
  "metadata": {
    "cgVersion": 1,
    "colab": {
      "provenance": [],
      "include_colab_link": true
    },
    "kernelspec": {
      "language": "python",
      "name": "python3",
      "display_name": "ML-venv (3.13.7)"
    },
    "language_info": {
      "codemirror_mode": {
        "name": "ipython",
        "version": 3
      },
      "mimetype": "text/x-python",
      "name": "python",
      "nbconvert_exporter": "python",
      "pygments_lexer": "ipython3",
      "version": "3.13.7",
      "file_extension": ".py"
    }
  },
  "cells": [
    {
      "cell_type": "markdown",
      "metadata": {
        "id": "view-in-github",
        "colab_type": "text"
      },
      "source": [
        "<a href=\"https://colab.research.google.com/github/Joostmaghetweten/test/blob/main/Assignment_1_CodeGrade_V2.ipynb\" target=\"_parent\"><img src=\"https://colab.research.google.com/assets/colab-badge.svg\" alt=\"Open In Colab\"/></a>"
      ]
    },
    {
      "cell_type": "markdown",
      "id": "cell-0-markdown",
      "source": [
        "# Polynomial Regression and Cross Validation [26 pts]\n",
        "\n",
        "---\n",
        "### Never remove/delete/modify cells that you need to fill in! If you accidentally modify a 'solution' cell in such a way, you'll have to re-download the template and copy-paste your code! Otherwise, CodeGrade will not grade it!\n",
        "---\n",
        "For the first assignment we will do something that might seem familiar from *Probability Theory for Machine Learning*: fit a polynomial function to a provided dataset. Fitting a function is a quintessential example of *supervised learning*, specifically *regression*, making it a great place to start learning about *machine learning*. There are several concepts here that are applicable to lots of *supervised learning* algorithms, so it will be good to cover them in a familiar context first.\n",
        "\n",
        "The notion of a *cost function* will be introduced.  It describes how well a given model fits the provided data. This function can then be minimized in several different ways, depending on complexity of the model and associated cost function.\n",
        "\n",
        "We will start with the most basic model (linear) and compute the parameters that minimize the cost function directly, based on the derivate. It is important that you try and comprehend what you are doing in this most basic version (instead of just blindly trying to implement functions until they seem to work), as it will help you understand the more complex models that use the same principles later on. This means actually **watching the linked videos** and computing the partial derivates yourself to verify that you understand all of the steps.\n",
        "\n",
        "The other common concept introduced is model selection using *cross validation*. In this assignment it will be used to determine the degree of the polynomial we are fitting. Both cross validation for model selection and minizing a the cost function to achieve the best possible fit, are used in many other supervised models, like for example *neural networks*.\n",
        "\n",
        "## Material\n",
        "\n",
        "The material for this assignment is based on sections **2.6 - 2.8** and **4.6 - 4.8** of the book *[Introduction to Machine Learning](https://www.cmpe.boun.edu.tr/~ethem/i2ml3e/)* by Ethem Alpaydin. In addition, there will be links to videos from Andrew Ng's *[Machine Learning course on Coursera](https://www.coursera.org/learn/machine-learning)* to provide some extra explanations and help create intuitions.\n",
        "\n",
        "Generally speaking, we will often use built-in functions for this course, but for this assignment you **may not** use any of the polynomial functions listed [here](https://numpy.org/doc/stable/reference/routines.polynomials.poly1d.html) or any other built-in polynomial solution methods. You can of course use them to check that your own implementations work correctly.\n",
        "\n",
        "## Preliminaries\n",
        "In total **there are *26* points available in this exercise**. Below there is some code to get you started. You do not need to add any code for this cell to work, just make sure you run the cell to actually import the libraries in your notebook.\n"
      ],
      "metadata": {
        "id": "cell-0-markdown"
      }
    },
    {
      "cell_type": "code",
      "id": "cell-1-code",
      "source": [
        "# Possible libraries that you might need to install should they not be present in your current setup.\n",
        "# (uncomment the line below to install if necessary).\n",
        "\n",
        "%pip install numpy matplotlib scipy ipython scikit-learn seaborn"
      ],
      "execution_count": 1,
      "metadata": {
        "colab": {
          "base_uri": "https://localhost:8080/"
        },
        "id": "cell-1-code",
        "outputId": "43d6d1bd-c635-48a4-c806-fde03e3e6247"
      },
      "outputs": [
        {
          "output_type": "stream",
          "name": "stdout",
          "text": [
            "Requirement already satisfied: numpy in /usr/local/lib/python3.12/dist-packages (2.0.2)\n",
            "Requirement already satisfied: matplotlib in /usr/local/lib/python3.12/dist-packages (3.10.0)\n",
            "Requirement already satisfied: scipy in /usr/local/lib/python3.12/dist-packages (1.16.2)\n",
            "Requirement already satisfied: ipython in /usr/local/lib/python3.12/dist-packages (7.34.0)\n",
            "Requirement already satisfied: scikit-learn in /usr/local/lib/python3.12/dist-packages (1.6.1)\n",
            "Requirement already satisfied: seaborn in /usr/local/lib/python3.12/dist-packages (0.13.2)\n",
            "Requirement already satisfied: contourpy>=1.0.1 in /usr/local/lib/python3.12/dist-packages (from matplotlib) (1.3.3)\n",
            "Requirement already satisfied: cycler>=0.10 in /usr/local/lib/python3.12/dist-packages (from matplotlib) (0.12.1)\n",
            "Requirement already satisfied: fonttools>=4.22.0 in /usr/local/lib/python3.12/dist-packages (from matplotlib) (4.60.1)\n",
            "Requirement already satisfied: kiwisolver>=1.3.1 in /usr/local/lib/python3.12/dist-packages (from matplotlib) (1.4.9)\n",
            "Requirement already satisfied: packaging>=20.0 in /usr/local/lib/python3.12/dist-packages (from matplotlib) (25.0)\n",
            "Requirement already satisfied: pillow>=8 in /usr/local/lib/python3.12/dist-packages (from matplotlib) (11.3.0)\n",
            "Requirement already satisfied: pyparsing>=2.3.1 in /usr/local/lib/python3.12/dist-packages (from matplotlib) (3.2.5)\n",
            "Requirement already satisfied: python-dateutil>=2.7 in /usr/local/lib/python3.12/dist-packages (from matplotlib) (2.9.0.post0)\n",
            "Requirement already satisfied: setuptools>=18.5 in /usr/local/lib/python3.12/dist-packages (from ipython) (75.2.0)\n",
            "Collecting jedi>=0.16 (from ipython)\n",
            "  Downloading jedi-0.19.2-py2.py3-none-any.whl.metadata (22 kB)\n",
            "Requirement already satisfied: decorator in /usr/local/lib/python3.12/dist-packages (from ipython) (4.4.2)\n",
            "Requirement already satisfied: pickleshare in /usr/local/lib/python3.12/dist-packages (from ipython) (0.7.5)\n",
            "Requirement already satisfied: traitlets>=4.2 in /usr/local/lib/python3.12/dist-packages (from ipython) (5.7.1)\n",
            "Requirement already satisfied: prompt-toolkit!=3.0.0,!=3.0.1,<3.1.0,>=2.0.0 in /usr/local/lib/python3.12/dist-packages (from ipython) (3.0.52)\n",
            "Requirement already satisfied: pygments in /usr/local/lib/python3.12/dist-packages (from ipython) (2.19.2)\n",
            "Requirement already satisfied: backcall in /usr/local/lib/python3.12/dist-packages (from ipython) (0.2.0)\n",
            "Requirement already satisfied: matplotlib-inline in /usr/local/lib/python3.12/dist-packages (from ipython) (0.2.1)\n",
            "Requirement already satisfied: pexpect>4.3 in /usr/local/lib/python3.12/dist-packages (from ipython) (4.9.0)\n",
            "Requirement already satisfied: joblib>=1.2.0 in /usr/local/lib/python3.12/dist-packages (from scikit-learn) (1.5.2)\n",
            "Requirement already satisfied: threadpoolctl>=3.1.0 in /usr/local/lib/python3.12/dist-packages (from scikit-learn) (3.6.0)\n",
            "Requirement already satisfied: pandas>=1.2 in /usr/local/lib/python3.12/dist-packages (from seaborn) (2.2.2)\n",
            "Requirement already satisfied: parso<0.9.0,>=0.8.4 in /usr/local/lib/python3.12/dist-packages (from jedi>=0.16->ipython) (0.8.5)\n",
            "Requirement already satisfied: pytz>=2020.1 in /usr/local/lib/python3.12/dist-packages (from pandas>=1.2->seaborn) (2025.2)\n",
            "Requirement already satisfied: tzdata>=2022.7 in /usr/local/lib/python3.12/dist-packages (from pandas>=1.2->seaborn) (2025.2)\n",
            "Requirement already satisfied: ptyprocess>=0.5 in /usr/local/lib/python3.12/dist-packages (from pexpect>4.3->ipython) (0.7.0)\n",
            "Requirement already satisfied: wcwidth in /usr/local/lib/python3.12/dist-packages (from prompt-toolkit!=3.0.0,!=3.0.1,<3.1.0,>=2.0.0->ipython) (0.2.14)\n",
            "Requirement already satisfied: six>=1.5 in /usr/local/lib/python3.12/dist-packages (from python-dateutil>=2.7->matplotlib) (1.17.0)\n",
            "Downloading jedi-0.19.2-py2.py3-none-any.whl (1.6 MB)\n",
            "\u001b[2K   \u001b[90m━━━━━━━━━━━━━━━━━━━━━━━━━━━━━━━━━━━━━━━━\u001b[0m \u001b[32m1.6/1.6 MB\u001b[0m \u001b[31m16.7 MB/s\u001b[0m eta \u001b[36m0:00:00\u001b[0m\n",
            "\u001b[?25hInstalling collected packages: jedi\n",
            "Successfully installed jedi-0.19.2\n"
          ]
        }
      ]
    },
    {
      "cell_type": "code",
      "id": "cell-2-code",
      "source": [
        "import numpy as np\n",
        "import matplotlib.pyplot as plt\n",
        "from IPython.display import YouTubeVideo\n",
        "\n",
        "%matplotlib inline\n",
        "\n",
        "# Sets the random seed for Numpy such that Codegrade will have the same randomization\n",
        "# DO NOT CHANGE THE LINE BELOW WHEN HANDING IN TO CODEGRADE!\n",
        "RANDOM_SEED = 1"
      ],
      "execution_count": 2,
      "metadata": {
        "id": "cell-2-code"
      },
      "outputs": []
    },
    {
      "cell_type": "markdown",
      "id": "cell-3-markdown",
      "source": [
        "For the sake of simplicity, we won't use any real data in this assignment.  Instead, below I provide a function that will simulate data.  **Do not alter this code block**.  The data set is contained in a variable named *points*."
      ],
      "metadata": {
        "id": "cell-3-markdown"
      }
    },
    {
      "cell_type": "code",
      "id": "cell-4-code",
      "source": [
        "# Simulate data from a special function\n",
        "# You don't have to understand the next 4 lines\n",
        "from scipy.special import yn as secret_function\n",
        "x = np.hstack([np.linspace(1, 10, 10), np.linspace(2, 9, 5), np.linspace(.5, 10.5, 15)])\n",
        "offset = np.linspace(.3, 0, 30)\n",
        "y = secret_function(2, x) + offset\n",
        "\n",
        "# final data variable\n",
        "points = np.vstack([x, y]).T\n",
        "\n",
        "# Domain of the data, to help with plotting later on\n",
        "plot_lims_x = [0, 11]\n",
        "plot_lims_y = [-2, 1]"
      ],
      "execution_count": 3,
      "metadata": {
        "id": "cell-4-code"
      },
      "outputs": []
    },
    {
      "cell_type": "markdown",
      "id": "cell-5-markdown",
      "source": [
        "## Printing the data [1 pt]\n",
        "\n",
        "Print the array *points* (generated in the preceding code block) to make sure you know what the data looks like."
      ],
      "metadata": {
        "id": "cell-5-markdown"
      }
    },
    {
      "cell_type": "code",
      "id": "cell-6-code",
      "source": [
        "def print_data():\n",
        "    \"\"\"\n",
        "    Prints the data and returns the variable (for the Autotest)\n",
        "\n",
        "    Output:\n",
        "    - The data array.\n",
        "    \"\"\"\n",
        "    # YOUR SOLUTION HERE (make sure you print & return the array as well)\n",
        "    print(points)\n",
        "    return points\n",
        "\n",
        "print_data()\n"
      ],
      "execution_count": 9,
      "metadata": {
        "colab": {
          "base_uri": "https://localhost:8080/"
        },
        "id": "cell-6-code",
        "outputId": "caad37c5-6e17-468c-b631-dea7f94e1913"
      },
      "outputs": [
        {
          "output_type": "stream",
          "name": "stdout",
          "text": [
            "[[ 1.00000000e+00 -1.35068261e+00]\n",
            " [ 2.00000000e+00 -3.27752932e-01]\n",
            " [ 3.00000000e+00  1.18909951e-01]\n",
            " [ 4.00000000e+00  4.84869112e-01]\n",
            " [ 5.00000000e+00  6.26283572e-01]\n",
            " [ 6.00000000e+00  4.78133765e-01]\n",
            " [ 7.00000000e+00  1.77404425e-01]\n",
            " [ 8.00000000e+00 -3.54503979e-02]\n",
            " [ 9.00000000e+00 -9.51430226e-03]\n",
            " [ 1.00000000e+01  2.01028469e-01]\n",
            " [ 2.00000000e+00 -4.20856380e-01]\n",
            " [ 3.75000000e+00  3.22746822e-01]\n",
            " [ 5.50000000e+00  5.06703302e-01]\n",
            " [ 7.25000000e+00  3.72745752e-02]\n",
            " [ 9.00000000e+00 -7.15832678e-02]\n",
            " [ 5.00000000e-01 -5.29654325e+00]\n",
            " [ 1.21428571e+00 -1.10797204e+00]\n",
            " [ 1.92857143e+00 -5.30432547e-01]\n",
            " [ 2.64285714e+00 -2.03509678e-01]\n",
            " [ 3.35714286e+00  9.25875447e-02]\n",
            " [ 4.07142857e+00  3.29111405e-01]\n",
            " [ 4.78571429e+00  4.43115702e-01]\n",
            " [ 5.50000000e+00  4.03255026e-01]\n",
            " [ 6.21428571e+00  2.34673759e-01]\n",
            " [ 6.92857143e+00  1.18122545e-02]\n",
            " [ 7.64285714e+00 -1.72821973e-01]\n",
            " [ 8.35714286e+00 -2.48235360e-01]\n",
            " [ 9.07142857e+00 -1.94519833e-01]\n",
            " [ 9.78571429e+00 -4.91912955e-02]\n",
            " [ 1.05000000e+01  1.12045464e-01]]\n"
          ]
        },
        {
          "output_type": "execute_result",
          "data": {
            "text/plain": [
              "array([[ 1.00000000e+00, -1.35068261e+00],\n",
              "       [ 2.00000000e+00, -3.27752932e-01],\n",
              "       [ 3.00000000e+00,  1.18909951e-01],\n",
              "       [ 4.00000000e+00,  4.84869112e-01],\n",
              "       [ 5.00000000e+00,  6.26283572e-01],\n",
              "       [ 6.00000000e+00,  4.78133765e-01],\n",
              "       [ 7.00000000e+00,  1.77404425e-01],\n",
              "       [ 8.00000000e+00, -3.54503979e-02],\n",
              "       [ 9.00000000e+00, -9.51430226e-03],\n",
              "       [ 1.00000000e+01,  2.01028469e-01],\n",
              "       [ 2.00000000e+00, -4.20856380e-01],\n",
              "       [ 3.75000000e+00,  3.22746822e-01],\n",
              "       [ 5.50000000e+00,  5.06703302e-01],\n",
              "       [ 7.25000000e+00,  3.72745752e-02],\n",
              "       [ 9.00000000e+00, -7.15832678e-02],\n",
              "       [ 5.00000000e-01, -5.29654325e+00],\n",
              "       [ 1.21428571e+00, -1.10797204e+00],\n",
              "       [ 1.92857143e+00, -5.30432547e-01],\n",
              "       [ 2.64285714e+00, -2.03509678e-01],\n",
              "       [ 3.35714286e+00,  9.25875447e-02],\n",
              "       [ 4.07142857e+00,  3.29111405e-01],\n",
              "       [ 4.78571429e+00,  4.43115702e-01],\n",
              "       [ 5.50000000e+00,  4.03255026e-01],\n",
              "       [ 6.21428571e+00,  2.34673759e-01],\n",
              "       [ 6.92857143e+00,  1.18122545e-02],\n",
              "       [ 7.64285714e+00, -1.72821973e-01],\n",
              "       [ 8.35714286e+00, -2.48235360e-01],\n",
              "       [ 9.07142857e+00, -1.94519833e-01],\n",
              "       [ 9.78571429e+00, -4.91912955e-02],\n",
              "       [ 1.05000000e+01,  1.12045464e-01]])"
            ]
          },
          "metadata": {},
          "execution_count": 9
        }
      ]
    },
    {
      "cell_type": "markdown",
      "id": "cell-7-markdown",
      "source": [
        "## Plotting the points [1 pt]\n",
        "\n",
        "First we want to separate our input from our targets. Write a function `split_X_r` to separate your `data` into an X matrix (input) and an r vector (targets) using [slicing](https://numpy.org/doc/stable/user/basics.indexing.html).\n",
        "\n",
        "Using both vectors, create a graph containing the points that you printed above. For this you can use the *matplotlib* functions [plot](https://matplotlib.org/stable/api/pyplot_summary.html) and [show](https://matplotlib.org/stable/api/_as_gen/matplotlib.pyplot.show.html). A plot of data should be visible below your code. HINT: [You can check the shapes](https://docs.scipy.org/doc/numpy/reference/generated/numpy.ndarray.shape.html) of X and R, they should both be (30,1).\n",
        "\n",
        "Note that we denote X as a matrix whereas we denote r as a vector. We denote X as a matrix to make it more general; in most cases you have multiple input features for every data entry. In contrary, mutliple targets for every data entry is less common."
      ],
      "metadata": {
        "id": "cell-7-markdown"
      }
    },
    {
      "cell_type": "code",
      "id": "cell-8-code",
      "source": [
        "def split_X_r(data):\n",
        "    \"\"\"\n",
        "    Splits the data into the X and R components.\n",
        "\n",
        "    Input:\n",
        "    data - A Numpy array containing the data.\n",
        "\n",
        "    Output:\n",
        "    - 2 Numpy arrays containing the data & the targets.\n",
        "    \"\"\"\n",
        "    X = data[:, 0:1]\n",
        "    r = data[:, 1:2]\n",
        "    return X, r\n",
        "\n",
        "\n",
        "X, r = split_X_r(points)\n",
        "\n",
        "print(X.shape, r.shape)\n",
        "\n",
        "# plot\n",
        "plt.scatter(X, r)\n",
        "plt.xlabel(\"$X$\", fontsize=25)\n",
        "plt.ylabel(\"$r$\", fontsize=25)\n",
        "plt.xlim(plot_lims_x)\n",
        "plt.ylim(plot_lims_y)\n",
        "plt.show()\n"
      ],
      "execution_count": 10,
      "metadata": {
        "colab": {
          "base_uri": "https://localhost:8080/",
          "height": 492
        },
        "id": "cell-8-code",
        "outputId": "4d1544c5-1483-47dc-a77b-da444fad1dcd"
      },
      "outputs": [
        {
          "output_type": "stream",
          "name": "stdout",
          "text": [
            "(30, 1) (30, 1)\n"
          ]
        },
        {
          "output_type": "display_data",
          "data": {
            "text/plain": [
              "<Figure size 640x480 with 1 Axes>"
            ],
            "image/png": "[encoded data removed]"
          },
          "metadata": {}
        }
      ]
    },
    {
      "cell_type": "markdown",
      "id": "cell-9-markdown",
      "source": [
        "## Defining the linear model [1 pt]\n",
        "\n",
        "Now we are going to try to find the function which best relates these points. We will start by fitting a simple linear function of the form\n",
        "\n",
        "(2.15) $$g(x_n) = w_1x_n + w_0$$\n",
        "\n",
        "*For more detailed description of linear regression, watch Andrew's videos on the topic. The notation is slightly different, $y$ instead of $r$ for the output, but the actual model is identical.*"
      ],
      "metadata": {
        "id": "cell-9-markdown"
      }
    },
    {
      "cell_type": "code",
      "id": "cell-10-code",
      "source": [
        "# CodeGrade Tag ignore Video1\n",
        "display(YouTubeVideo('dLc-lfEEYss'))\n",
        "display(YouTubeVideo('KWULpBYzIYk'))"
      ],
      "execution_count": 11,
      "metadata": {
        "colab": {
          "base_uri": "https://localhost:8080/",
          "height": 626
        },
        "id": "cell-10-code",
        "outputId": "fbffdfb1-061b-4444-be54-707c50dcfafa"
      },
      "outputs": [
        {
          "output_type": "display_data",
          "data": {
            "text/plain": [
              "<IPython.lib.display.YouTubeVideo at 0x792bf520a780>"
            ],
            "text/html": [
              "\n",
              "        <iframe\n",
              "            width=\"400\"\n",
              "            height=\"300\"\n",
              "            src=\"https://www.youtube.com/embed/dLc-lfEEYss\"\n",
              "            frameborder=\"0\"\n",
              "            allowfullscreen\n",
              "            \n",
              "        ></iframe>\n",
              "        "
            ],
            "image/jpeg": "[encoded data removed]"
          },
          "metadata": {}
        },
        {
          "output_type": "display_data",
          "data": {
            "text/plain": [
              "<IPython.lib.display.YouTubeVideo at 0x792bf516edb0>"
            ],
            "text/html": [
              "\n",
              "        <iframe\n",
              "            width=\"400\"\n",
              "            height=\"300\"\n",
              "            src=\"https://www.youtube.com/embed/KWULpBYzIYk\"\n",
              "            frameborder=\"0\"\n",
              "            allowfullscreen\n",
              "            \n",
              "        ></iframe>\n",
              "        "
            ],
            "image/jpeg": "[encoded data removed]"
          },
          "metadata": {}
        }
      ]
    },
    {
      "cell_type": "markdown",
      "id": "cell-11-markdown",
      "source": [
        "Now write a function that computes the predicted output $g(X)$ given the input X and the parameters $w_0$ and $w_1$. This should be very straightforward, but make sure you understand what part this plays in our supervised learning problem before moving on."
      ],
      "metadata": {
        "id": "cell-11-markdown"
      }
    },
    {
      "cell_type": "code",
      "id": "cell-12-code",
      "source": [
        "def linear_model(w0, w1, x):\n",
        "    \"\"\"\n",
        "    Computes the Linear model for the given parameters & input.\n",
        "\n",
        "    Input:\n",
        "    w0 - Parameter W0\n",
        "    w1 - Parameter W1\n",
        "    x - Numpy array containing the input data.\n",
        "\n",
        "    Output:\n",
        "    - A Numpy array containing the output of the Linear model.\n",
        "    \"\"\"\n",
        "    return w0 + w1 * x\n",
        ""
      ],
      "execution_count": 13,
      "metadata": {
        "id": "cell-12-code"
      },
      "outputs": []
    },
    {
      "cell_type": "markdown",
      "id": "cell-13-markdown",
      "source": [
        "## Creating the cost function [1 pt]\n",
        "\n",
        "The cost function is defined as the sum of the squared errors of each prediction\n",
        "\n",
        "(2.16) $$\\ell(w_1, w_0; X, r) = \\frac{1}{2N}\\sum^N_{n=1} [r_n - g(X_n)]^2 = \\frac{1}{2N}\\sum^N_{n=1} [r_n - (w_1X_n + w_0)]^2$$\n",
        "\n",
        "*These videos are great for building intuition on the relation between the hypothesis function and the associated cost of that hypothesis for the data.*"
      ],
      "metadata": {
        "id": "cell-13-markdown"
      }
    },
    {
      "cell_type": "code",
      "id": "cell-14-code",
      "source": [
        "# CodeGrade Tag ignore Video2\n",
        "display(YouTubeVideo('CFN5zHzEuGY'))\n",
        "display(YouTubeVideo('peNRqkfukYY'))"
      ],
      "execution_count": 14,
      "metadata": {
        "colab": {
          "base_uri": "https://localhost:8080/",
          "height": 626
        },
        "id": "cell-14-code",
        "outputId": "9fd3a364-d53f-4b1d-cc14-e63dfb0cf3bd"
      },
      "outputs": [
        {
          "output_type": "display_data",
          "data": {
            "text/plain": [
              "<IPython.lib.display.YouTubeVideo at 0x792bf304f920>"
            ],
            "text/html": [
              "\n",
              "        <iframe\n",
              "            width=\"400\"\n",
              "            height=\"300\"\n",
              "            src=\"https://www.youtube.com/embed/CFN5zHzEuGY\"\n",
              "            frameborder=\"0\"\n",
              "            allowfullscreen\n",
              "            \n",
              "        ></iframe>\n",
              "        "
            ],
            "image/jpeg": "[encoded data removed]"
          },
          "metadata": {}
        },
        {
          "output_type": "display_data",
          "data": {
            "text/plain": [
              "<IPython.lib.display.YouTubeVideo at 0x792bf51f0260>"
            ],
            "text/html": [
              "\n",
              "        <iframe\n",
              "            width=\"400\"\n",
              "            height=\"300\"\n",
              "            src=\"https://www.youtube.com/embed/peNRqkfukYY\"\n",
              "            frameborder=\"0\"\n",
              "            allowfullscreen\n",
              "            \n",
              "        ></iframe>\n",
              "        "
            ],
            "image/jpeg": "[encoded data removed]"
          },
          "metadata": {}
        }
      ]
    },
    {
      "cell_type": "markdown",
      "id": "cell-15-markdown",
      "source": [
        "Write a function to compute the cost based on the dataset $X$, $R$ and parameters $w_0$ and $w_1$. Based on your plot of the data, try to estimate some sensible values for $w_0$ and $w_1$ and compute the corresponding cost.\n",
        "Try to write this function without a for-loop to speed thing up!"
      ],
      "metadata": {
        "id": "cell-15-markdown"
      }
    },
    {
      "cell_type": "code",
      "id": "cell-16-code",
      "source": [
        "# CodeGrade Tag test4\n",
        "def linear_cost(w0, w1, X, r):\n",
        "    \"\"\"\n",
        "    Computes the Linear cost function.\n",
        "\n",
        "    Input:\n",
        "    w0 - Parameter W0.\n",
        "    w1 - Parameter W1.\n",
        "    X - Input data X (note the capitalization).\n",
        "    r - Target data r.\n",
        "\n",
        "    Output:\n",
        "    A numpy array containing the linear cost as defined in the formula.\n",
        "    \"\"\"\n",
        "    # YOUR SOLUTION HERE\n",
        "    Voorspelling = linear_model(w0, w1, x)\n",
        "    error = r - Voorspelling\n",
        "    kwadraat_error = error**2\n",
        "    eindkost = (1 / (2 * N)) * np.sum(kwadraat_error)\n",
        "    return eindkost\n"
      ],
      "execution_count": 15,
      "metadata": {
        "id": "cell-16-code"
      },
      "outputs": []
    },
    {
      "cell_type": "markdown",
      "id": "cell-17-markdown",
      "source": [
        "## Fitting the linear model [5 pt]\n",
        "\n",
        "We can find the minimum value of the cost function by taking the partial derivatives of that cost function for both of the weights $w_0$ and $w_1$ and setting them equal to $0$, resulting in the equations\n",
        "\n",
        "(2.17a) $$w_1 = \\frac{\\sum_n X_n r_n - \\bar{X}\\bar{r}N}{\\sum_n X_n^2 - N\\bar{X}^2}$$\n",
        "(2.17b) $$w_0 = \\bar{r} - w_1\\bar{X}$$\n",
        "\n",
        "You can compute the partial derivates of equation *2.16* yourself and set them both equal to zero, to check you understand where these two equations come from. Minimizing the cost function gives us the best possible parameters for a linear model predicting the values of the provided dataset. *Note:* If you are unfamiliar with the notation $\\bar{X}$, it is defined in *Alpaydin* too, below equation *2.17*.\n",
        "\n",
        "Write a function which computes the optimal values of $w_0$ and $w_1$ for a dataset consisting of $X$ and $r$, containing $N$ elements each. Print the cost of this fit.  Then use *matplotlib* again to plot the points, but now also add the line representing the hypothesis function you found. As the line is linear, you can simply plot it by computing the 2 end points and have *matplotlib* draw the connecting line.\n",
        "\n",
        "Note that with some clever [array operations](https://docs.scipy.org/doc/numpy/reference/routines.array-manipulation.html) and [linear algebra](https://docs.scipy.org/doc/numpy/reference/routines.linalg.html) you can avoid explicitly looping over all the elements in $X$ and $r$ in `linear_fit`, which will make you code a lot faster. However, this is just an optional extra and any working implementation of the equations above will be considered correct."
      ],
      "metadata": {
        "id": "cell-17-markdown"
      }
    },
    {
      "cell_type": "code",
      "id": "cell-18-code",
      "source": [
        "def linear_fit(X, r, N):\n",
        "    \"\"\"\n",
        "    Fits the linear models to get the optimal values of W0 & W1.\n",
        "\n",
        "    Input:\n",
        "    X - The input data (note the capitalization).\n",
        "    r - The target data.\n",
        "    N - Number of samples in the input.\n",
        "\n",
        "    Output:\n",
        "    - 2 Scalars representing the optimal values of W0 & W1.\n",
        "    \"\"\"\n",
        "    # YOUR SOLUTION HERE (2 pts)\n",
        "    raise NotImplementedError\n",
        "\n",
        "# YOUR SOLUTION HERE\n",
        "X_bar = np.mean(X)\n",
        "r_bar = np.mean(r)\n",
        "\n",
        "boven = np.sum(X * r) -\n",
        "\n",
        "# FIT MODEL\n",
        "#???\n",
        "\n",
        "# PRINT COST\n",
        "#???\n",
        "\n",
        "# PLOT DATA AND LINE\n",
        "#???\n",
        "\n",
        "plt.legend(loc=4, fontsize=20, frameon=False)\n",
        "plt.xlabel(\"$X$\", fontsize=25)\n",
        "plt.ylabel(\"$R$\", fontsize=25)\n",
        "\n",
        "plt.xlim(plot_lims_x)\n",
        "plt.ylim(plot_lims_y)\n",
        "plt.show()"
      ],
      "execution_count": null,
      "metadata": {
        "id": "cell-18-code"
      },
      "outputs": []
    },
    {
      "cell_type": "markdown",
      "id": "cell-19-markdown",
      "source": [
        "## Polynomial data [3 pt]\n",
        "\n",
        "The linear model can easily be extended to polynomials of any order by expanding the original input with the squared input $x^2$, the cubed input $x^3$, etc and adding additional weights to the model. For ease of calculation, the input is also expanded with a vector of $1$'s, to represent the input for the constant parameter $w_0$. The parameters then become $w_0$, $w_1$, $w_2$, etc., one factor for each term of the polynomial.\n",
        "\n",
        "So if originally the dataset of $N$ elements is of the form $X$ (subscripts are indices here)\n",
        "\n",
        "$$ X = \\left[\\begin{array}{c} x_1 \\\\ x_2 \\\\ \\vdots \\\\ x_N \\end{array} \\right]$$\n",
        "\n",
        "Then the matrix $D$ for a $K^{th}$-order polynomial becomes\n",
        "\n",
        "$$ D = \\left[\\begin{array}{cccc}\n",
        "1 & x_1 & x_1^2 & \\cdots & x_1^K \\\\\n",
        "1 & x_2 & x_2^2 & \\cdots & x_2^K \\\\\n",
        "\\vdots \\\\\n",
        "1 & x_N & x_N^2 & \\cdots & x_N^K \\\\\n",
        "\\end{array} \\right]$$\n",
        "\n",
        "Write a function `create_D_matrix` that constructs this matrix for a given $X$ up the specified order $K$. Looking at plots for the dataset we have been using so far, the relationship between the points will probably be at least quadratic. Use the function to construct a matrix $D$ of order $2$, **print** the matrix and verify that it looks correct."
      ],
      "metadata": {
        "id": "cell-19-markdown"
      }
    },
    {
      "cell_type": "code",
      "id": "cell-20-code",
      "source": [
        "def create_D_matrix(X, K):\n",
        "    # YOUR SOLUTION HERE\n",
        "    \"\"\"\n",
        "    Creates the D-matrix.\n",
        "\n",
        "    Input:\n",
        "    X - The input data.\n",
        "    K - The order of polynomial.\n",
        "\n",
        "    Output:\n",
        "    - A numpy array consisting of the D-matrix.\n",
        "    \"\"\"\n",
        "    assert K >= 0, \"Polynomial order (K) must be non-negative!\"\n",
        "    raise NotImplementedError\n",
        "\n",
        "# YOUR SOLUTION HERE"
      ],
      "execution_count": null,
      "metadata": {
        "id": "cell-20-code"
      },
      "outputs": []
    },
    {
      "cell_type": "markdown",
      "id": "cell-21-markdown",
      "source": [
        "## Polynomial model [2 pt]\n",
        "\n",
        "The parameters can now be represented as\n",
        "\n",
        "$$ w = \\left[\\begin{array}{c} w_0 \\\\ w_1 \\\\ \\vdots \\\\ w_K \\end{array} \\right]$$\n",
        "\n",
        "The hypothesis for a single input then just becomes\n",
        "\n",
        "$$ g(x_n) = \\sum_{k=0}^K x_n^k w_k $$\n",
        "\n",
        "Which we can write as a matrix multiplication for all inputs in a single equation\n",
        "\n",
        "$$ \\left[\\begin{array}{cccc}\n",
        "1 & x_1 & x_1^2 & \\cdots & x_1^K \\\\\n",
        "1 & x_2 & x_2^2 & \\cdots & x_2^K \\\\\n",
        "\\vdots \\\\\n",
        "1 & x_N & x_N^2 & \\cdots & x_N^K \\\\\n",
        "\\end{array} \\right]\n",
        "\\left[\\begin{array}{c} w_0 \\\\ w_1 \\\\ \\vdots \\\\ w_K \\end{array} \\right] = \\left[\\begin{array}{c} g(x_1) \\\\ g(x_2) \\\\ \\vdots \\\\ g(x_N) \\end{array} \\right]$$\n",
        "\n",
        "You can do matrix multiplication using the [dot](https://docs.scipy.org/doc/numpy/reference/generated/numpy.dot.html) or [matmul](https://numpy.org/doc/stable/reference/generated/numpy.matmul.html) function. Write a function for computing the polynomial below\n",
        "\n",
        "* `poly_model` should take a matrix $X$ and weight vector $w$, generate the corresponding $D$ matrix (using your previous function), and return the corresponding vector of hypotheses."
      ],
      "metadata": {
        "id": "cell-21-markdown"
      }
    },
    {
      "cell_type": "code",
      "id": "cell-22-code",
      "source": [
        "def poly_model(X, w):\n",
        "    \"\"\"\n",
        "    Computes the D-matrix for a given input & weights.\n",
        "\n",
        "    Input:\n",
        "    X - The input data.\n",
        "    w - The weight vector.\n",
        "\n",
        "    Output:\n",
        "    - A numpy array consisting of the D-matrix.\n",
        "    \"\"\"\n",
        "    # YOUR SOLUTION HERE\n",
        "    raise NotImplementedError"
      ],
      "execution_count": null,
      "metadata": {
        "id": "cell-22-code"
      },
      "outputs": []
    },
    {
      "cell_type": "markdown",
      "id": "cell-23-markdown",
      "source": [
        "## Polynomial cost function and model fitting [3 pt]\n",
        "\n",
        "And for the cost function we can now use\n",
        "\n",
        "$$ \\ell(w; X, r) = \\frac{1}{2N} \\sum_{n=1}^N [r_n - \\underbrace{D_n w}_{g(X_n)}]^2$$\n",
        "\n",
        "Here, we compute the hypothesis $g(X)$ for every example using $D_n w$, take the difference with the actual output $r$ and finally square and sum each difference. Note that this is extremely similar to the mean squared error function we used for the linear case, and also that minimizing this error function is actually equivalent to maximizing the log likelihood of the parameter vector $w$ (see equations $4.31$ and $4.32$).\n",
        "\n",
        "Now we have the cost function equation and can again take the partial derivative for each of the weights $w_0$ to $w_k$ and set their value equal to $0$. Solving the resulting system of equations will give the set of weights that minimize the cost function. The weights describing this lowest point of the cost function are the parameters which will produce the line that best fits our dataset.\n",
        "\n",
        "Solving all partial derivate equations for each weight can actually be done with just a couple of matrix operations. Deriving the equation yourself can be a bit involved, but know that the principle is exactly the same as for the linear model computing just $w_0$ and $w_1$. The final equation for the weight vector becomes\n",
        "\n",
        "(4.33) $$ w = (D^TD)^{-1}D^Tr $$\n",
        "\n",
        "Numpy has built in functions for [transpose](https://docs.scipy.org/doc/numpy/reference/generated/numpy.transpose.html) and [inverse](https://docs.scipy.org/doc/numpy/reference/generated/numpy.linalg.inv.html). Use them to write the code for the following functions.\n",
        "\n",
        "* `poly_cost` should return the total cost $\\ell$ given $w$, $X$ and $r$. We can use this to see how good a fit is.\n",
        "* `poly_fit` given $X$ and $r$, it should return the vector $w$ that bests fits the best linear relationship between matrix $D$ and vector $r$\n",
        "\n",
        "Using this `poly_fit` function, find the best fitting weights for a quadric polynomial on the data and print these weights"
      ],
      "metadata": {
        "id": "cell-23-markdown"
      }
    },
    {
      "cell_type": "code",
      "id": "cell-24-code",
      "source": [
        "def poly_cost(W, X, r):\n",
        "    \"\"\"\n",
        "    Computes the cost function for the polynomial model.\n",
        "\n",
        "    Input:\n",
        "    W - The weight vector.\n",
        "    X - The input data.\n",
        "    r - The target data.\n",
        "\n",
        "    Output:\n",
        "    - The computed cost for the polynomial model.\n",
        "    \"\"\"\n",
        "    # YOUR SOLUTION HERE (1pt)\n",
        "    raise NotImplementedError\n",
        "\n",
        "def poly_fit(X, r, K=2):\n",
        "    \"\"\"\n",
        "    Fits the polynomial model to find the optimal weight vector.\n",
        "\n",
        "    Input:\n",
        "    X - The input data.\n",
        "    r - The target data.\n",
        "    K - The order of polynomials.\n",
        "\n",
        "    Output:\n",
        "    - A numpy array containing the optimal fit of the weight vector.\n",
        "    \"\"\"\n",
        "    # YOUR SOLUTION HERE\n",
        "    raise NotImplementedError\n",
        "\n",
        "w = poly_fit(x_data, r_data)\n",
        "print(w)"
      ],
      "execution_count": null,
      "metadata": {
        "id": "cell-24-code"
      },
      "outputs": []
    },
    {
      "cell_type": "markdown",
      "id": "cell-25-markdown",
      "source": [
        "## Plotting polynomials [1 pt]\n",
        "\n",
        "Now lets try and figure out what our fitted quadratic polynomial looks like. As the function is not linear, we will need more than just 2 points to actually plot the line. The easiest solution is to create a whole bunch of x-values as samples, compute the corresponding y-values and plot those. With enough samples the line will look smooth, even if it is connected with linear segments.\n",
        "\n",
        "To create these x-values samples, we can use the function [linspace](https://docs.scipy.org/doc/numpy/reference/generated/numpy.linspace.html), you can use the following values for x: $$0<x<10.$$ Then just use the `poly_model` function you wrote earlier and raise NotImplementedError in the grid of x-values generated by linspace. Now just plot the original datapoints and the model fit, just as for the linear plot. Don't forget to show your plot at the end.\n",
        "\n",
        "Use these steps to fill in the `poly_plot` function below and show the polynomial function defined by the weights you found for the quadratic polynomial."
      ],
      "metadata": {
        "id": "cell-25-markdown"
      }
    },
    {
      "cell_type": "code",
      "id": "cell-26-code",
      "source": [
        "def poly_plot(W, X, r, n_grid_points=1000):\n",
        "    \"\"\"\n",
        "    Generates the plot for the polynomial model.\n",
        "\n",
        "    Input:\n",
        "    W - The weight vector.\n",
        "    X - The input data.\n",
        "    r - The target data.\n",
        "    n_grid_points - Number of grid points to use in the plot.\n",
        "\n",
        "    Output:\n",
        "    - No output (plot is generated in function).\n",
        "    \"\"\"\n",
        "    # YOUR SOLUTION HERE\n",
        "    raise NotImplementedError\n",
        "\n",
        "    # create grid of points (column vector)\n",
        "    #???\n",
        "\n",
        "    # get predictions on grid\n",
        "    #???\n",
        "\n",
        "    # PLOT DATA AND LINE\n",
        "    #???\n",
        "\n",
        "\n",
        "    plt.legend(loc=4, fontsize=20, frameon=False)\n",
        "    plt.xlabel(\"$X$\", fontsize=25)\n",
        "    plt.ylabel(\"$R$\", fontsize=25)\n",
        "\n",
        "    plt.xlim(plot_lims_x)\n",
        "    plt.ylim(plot_lims_y)\n",
        "    plt.show()\n",
        "\n",
        "\n",
        "poly_plot(w, x_data, r_data)"
      ],
      "execution_count": null,
      "metadata": {
        "id": "cell-26-code"
      },
      "outputs": []
    },
    {
      "cell_type": "markdown",
      "id": "cell-27-markdown",
      "source": [
        "## Polynomial order [1 pt]\n",
        "\n",
        "You can now create a polynomial fit on the data for a polynomial of any order. The next question then becomes: *What order polynomial fits the data the best?*\n",
        "\n",
        "Using the `poly_fit` and `poly_plot`, try to fit different order polynomials to the data. Show the plot for the order polynomial you think fits best.\n",
        "\n",
        "Note that the cost function will most likely decrease with each added polynomial term, as there is more flexibility in the model to fit the data points exactly. However, these weights will fit those few data points very well, but might have very extreme values in between points that would not be good predictors for new inputs. Something like an order 20 polynomial might have a very well fitting shape for the existing data points, but looks like it would be strange predictor at some of the possible other points. Try to find a fit that looks visually like it would generalize well to new points."
      ],
      "metadata": {
        "id": "cell-27-markdown"
      }
    },
    {
      "cell_type": "code",
      "id": "cell-28-code",
      "source": [
        "# YOUR SOLUTION HERE\n",
        "#???\n",
        "\n",
        "# choose polynomial degree\n",
        "#???\n",
        "\n",
        "# fit polynomial\n",
        "#???\n",
        "\n",
        "# show model fit (and data)\n",
        "#???"
      ],
      "execution_count": null,
      "metadata": {
        "id": "cell-28-code"
      },
      "outputs": []
    },
    {
      "cell_type": "markdown",
      "id": "cell-29-markdown",
      "source": [
        "## Cross validation [2 pt]\n",
        "\n",
        "Another way to answer this same question is to use cross validation. With cross validation you split the data into 2 parts and use one part to fit the model (training set) and the other part to see how well the model fits the remaining data (validation set). This way, we can select a model that is less prone to overfitting.\n",
        "\n",
        "Write a function below to split the original dataset into 2 sets according to a given ratio. It is important to randomize your division, as simply using the first half of data for the one set and the second half for the other, might result in a strange distribution.\n",
        "\n",
        "Split the original dataset using a ratio of 0.6 into a training and a validation set. Then for both of these sets, use your old `split_X_r` function to split them into their $X$ and $r$ parts.\n",
        "\n",
        "*Hint: In order to guarantee that the results of the shuffle are deterministic (and will not fail the autograder), please use the newer [RNG Generator from Numpy](https://numpy.org/doc/2.3/reference/random/generated/numpy.random.Generator.shuffle.html#numpy.random.Generator.shuffle) to shuffle your data. The old method `np.random.shuffle()` appears to lead to inconsistent results.*"
      ],
      "metadata": {
        "id": "cell-29-markdown"
      }
    },
    {
      "cell_type": "code",
      "id": "cell-30-code",
      "source": [
        "def validation_split(data, ratio, seed):\n",
        "    \"\"\"\n",
        "    Splits the input data into a training & validation set at the specified ratio.\n",
        "\n",
        "    Input:\n",
        "    data - The input data.\n",
        "    ratio - Fraction that determines the division of the data.\n",
        "\n",
        "    Output:\n",
        "    - 2 Tuples containing respective train & validation data for both the input & the target.\n",
        "\n",
        "    # NOTE: Make sure to use the newer RNG Generators from Numpy to pass the autotests!\n",
        "    \"\"\"\n",
        "    # YOUR SOLUTION HERE\n",
        "    raise NotImplementedError\n",
        "\n",
        "# NOTE: Use the RANDOM_SEED defined at the top of the file to shuffle the data.\n",
        "(x_train, r_train), (x_valid, r_valid) = validation_split(points, 0.6, RANDOM_SEED)"
      ],
      "execution_count": null,
      "metadata": {
        "id": "cell-30-code"
      },
      "outputs": []
    },
    {
      "cell_type": "markdown",
      "id": "cell-31-markdown",
      "source": [
        "## Model selection [5 pt]\n",
        "\n",
        "With this new split of the data you can just repeatedly fit different order polynomials to the training set and see which produces the lowest cost on the validation set. The set of weights with the lowests cost on the validation set generalizes the best to new data and is thus the best overal fit on the dataset.\n",
        "\n",
        "Write the function `best_poly_fit` below. Try a large range of polynomial orders (like 1 to 50), create the $D$ matrix based on the training set for each order and fit the weights for that polynomial. Then for each of these found weights, also create the D matrix for the validation set and compute the cost using `poly_cost`. Return the set of weights with the lowest cost on the validation set and the corresponding cost.\n",
        "\n",
        "Run this fitting function with your training and validation sets. Plot the hypothesis function and show the weights that were found and what the cost was. Note that rerunning your validation split code above will result in a different random distribution and thus a different final fit."
      ],
      "metadata": {
        "id": "cell-31-markdown"
      }
    },
    {
      "cell_type": "code",
      "id": "cell-32-code",
      "source": [
        "def best_poly_fit(train_x, train_r, val_x, val_r, max_K=50):\n",
        "    \"\"\"\n",
        "    Computes the best fit for the polynomial model.\n",
        "\n",
        "    Input:\n",
        "    train_x - The training input.\n",
        "    train_r - The target input associated with the training input.\n",
        "    val_x - The validation data associated with the input.\n",
        "    val_r - The targets from the validation data associated with the input.\n",
        "    max_K - The highest order of polynomial that will be checked.\n",
        "\n",
        "    Output:\n",
        "    - The weight vector, total cost & order of polynomial corresponding to the best fit.\n",
        "    \"\"\"\n",
        "    # YOUR SOLUTION HERE\n",
        "    raise NotImplementedError\n",
        "\n",
        "\n",
        "w, cost, K = best_poly_fit(x_train, r_train, x_valid, r_valid)\n",
        "\n",
        "print(\"Results from Cross Validation\")\n",
        "print(\"Polynomial order: %d\" %(K))\n",
        "print(\"Cost: %.3f\" %(cost))\n",
        "poly_plot(w, x_train, r_train)"
      ],
      "execution_count": null,
      "metadata": {
        "id": "cell-32-code"
      },
      "outputs": []
    }
  ]
}